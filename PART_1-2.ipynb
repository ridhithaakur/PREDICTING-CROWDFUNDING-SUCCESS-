{
  "nbformat": 4,
  "nbformat_minor": 0,
  "metadata": {
    "colab": {
      "name": "PART 1",
      "provenance": [],
      "collapsed_sections": []
    },
    "kernelspec": {
      "name": "python3",
      "display_name": "Python 3"
    },
    "language_info": {
      "name": "python"
    }
  },
  "cells": [
    {
      "cell_type": "code",
      "execution_count": 10,
      "metadata": {
        "colab": {
          "base_uri": "https://localhost:8080/",
          "height": 313
        },
        "id": "HeNxHJO7KoDK",
        "outputId": "f87a0755-88a8-4144-8525-8a53c72ac764"
      },
      "outputs": [
        {
          "output_type": "stream",
          "name": "stdout",
          "text": [
            "Accuracy: 0.7752380952380953\n"
          ]
        },
        {
          "output_type": "display_data",
          "data": {
            "text/plain": [
              "<Figure size 432x288 with 2 Axes>"
            ],
            "image/png": "[encoded data removed]"
          },
          "metadata": {
            "needs_background": "light"
          }
        },
        {
          "output_type": "display_data",
          "data": {
            "text/plain": [
              "<IPython.core.display.Javascript object>"
            ],
            "application/javascript": [
              "\n",
              "    async function download(id, filename, size) {\n",
              "      if (!google.colab.kernel.accessAllowed) {\n",
              "        return;\n",
              "      }\n",
              "      const div = document.createElement('div');\n",
              "      const label = document.createElement('label');\n",
              "      label.textContent = `Downloading \"${filename}\": `;\n",
              "      div.appendChild(label);\n",
              "      const progress = document.createElement('progress');\n",
              "      progress.max = size;\n",
              "      div.appendChild(progress);\n",
              "      document.body.appendChild(div);\n",
              "\n",
              "      const buffers = [];\n",
              "      let downloaded = 0;\n",
              "\n",
              "      const channel = await google.colab.kernel.comms.open(id);\n",
              "      // Send a message to notify the kernel that we're ready.\n",
              "      channel.send({})\n",
              "\n",
              "      for await (const message of channel.messages) {\n",
              "        // Send a message to notify the kernel that we're ready.\n",
              "        channel.send({})\n",
              "        if (message.buffers) {\n",
              "          for (const buffer of message.buffers) {\n",
              "            buffers.push(buffer);\n",
              "            downloaded += buffer.byteLength;\n",
              "            progress.value = downloaded;\n",
              "          }\n",
              "        }\n",
              "      }\n",
              "      const blob = new Blob(buffers, {type: 'application/binary'});\n",
              "      const a = document.createElement('a');\n",
              "      a.href = window.URL.createObjectURL(blob);\n",
              "      a.download = filename;\n",
              "      div.appendChild(a);\n",
              "      a.click();\n",
              "      div.remove();\n",
              "    }\n",
              "  "
            ]
          },
          "metadata": {}
        },
        {
          "output_type": "display_data",
          "data": {
            "text/plain": [
              "<IPython.core.display.Javascript object>"
            ],
            "application/javascript": [
              "download(\"download_15f92941-8e67-437a-b1b9-2d2d11ad18c2\", \"kiva_decision_tree.joblib\", 140642)"
            ]
          },
          "metadata": {}
        }
      ],
      "source": [
        "# PREDICTING CROWDFUNDING SUCCESS \n",
        "import json, joblib, requests, sklearn.metrics, matplotlib.pyplot as plt, sklearn.model_selection, sklearn.tree,google.colab.files\n",
        "\n",
        "response = requests.get(\"https://dgoldberg.sdsu.edu/515/kiva_data_full.json\")\n",
        "\n",
        "if response:\n",
        "    data = json.loads(response.text)\n",
        "\n",
        "    x = []\n",
        "    y = []\n",
        "\n",
        "    for line in data:\n",
        " \n",
        "         length = line[\"length\"]\n",
        "         pictures = line[\"number_of_pictures\"]\n",
        "         loan = line[\"loan_amount\"]\n",
        "         if line[\"bonus_credit_eligibility\"] == \"yes\":\n",
        "             a = 1\n",
        "         else:\n",
        "             a = 0\n",
        "        \n",
        "         if line[\"user_favorite_post\"] == \"yes\":\n",
        "             b = 1\n",
        "         else:\n",
        "             b = 0\n",
        "\n",
        "         if line[\"loan_status\"] == \"funded\":\n",
        "             y.append(1)\n",
        "         else:\n",
        "             y.append(0)\n",
        "\n",
        "         inner_list = [length, pictures, loan, a, b]\n",
        "         x.append(inner_list)\n",
        "    #print(y)\n",
        "    x_train, x_test, y_train, y_test = sklearn.model_selection.train_test_split(x, y, random_state = 0)\n",
        "\n",
        "    clf = (sklearn.tree.DecisionTreeClassifier())\n",
        "    clf = clf.fit(x_train, y_train)\n",
        "# print accuracy\n",
        "    predictions = clf.predict(x_test)\n",
        "    accuracy = sklearn.metrics.accuracy_score(y_test, predictions)\n",
        "    print(\"Accuracy:\", accuracy)\n",
        "#confusion matrix\n",
        "    cm = sklearn.metrics.confusion_matrix(y_test, predictions)\n",
        "    disp = sklearn.metrics.ConfusionMatrixDisplay(cm)\n",
        "    disp.plot()\n",
        "    plt.show()\n",
        "    \n",
        "    joblib.dump(clf, \"kiva_decision_tree.joblib\")\n",
        "    google.colab.files.download(\"kiva_decision_tree.joblib\")\n",
        "\n",
        "else:\n",
        "    print(\"Sorry, connection error.\")"
      ]
    }
  ]
}