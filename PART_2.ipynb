{
  "nbformat": 4,
  "nbformat_minor": 0,
  "metadata": {
    "colab": {
      "name": "PART 2",
      "provenance": [],
      "collapsed_sections": []
    },
    "kernelspec": {
      "name": "python3",
      "display_name": "Python 3"
    },
    "language_info": {
      "name": "python"
    }
  },
  "cells": [
    {
      "cell_type": "code",
      "execution_count": 9,
      "metadata": {
        "colab": {
          "base_uri": "https://localhost:8080/"
        },
        "id": "g9EeFCt7Q50E",
        "outputId": "6d06ae6b-c46d-4b2a-ee7f-08b40d30e66d"
      },
      "outputs": [
        {
          "output_type": "stream",
          "name": "stdout",
          "text": [
            "Enter the name of the decision tree file to load: kiva_decision_tree.joblib\n",
            "Enter the length of the post to predict:45767\n",
            "Enter the number of pictures in the post:4\n",
            "Enter the loan amount requested:79\n",
            "Enter the bonus credit eligibility (yes/no):yes\n",
            "Enter whether the post was a user favorite post (yes/no):yes\n",
            "Based on the decision tree, the loan will be funded.\n"
          ]
        }
      ],
      "source": [
        "# Predicting if the loan will be granted or not\n",
        "\n",
        "import json, joblib, requests, sklearn.metrics, sklearn.tree\n",
        "response = requests.get(\"https://dgoldberg.sdsu.edu/515/kiva_data_full.json\")\n",
        "if response:\n",
        "    data = json.loads(response.text)\n",
        "    \n",
        "# values entered by the user\n",
        "    z = []\n",
        "    dt = input(\"Enter the name of the decision tree file to load: \")\n",
        "    length = float(input(\"Enter the length of the post to predict:\"))\n",
        "    pictures = float(input(\"Enter the number of pictures in the post:\"))\n",
        "    loan = float(input(\"Enter the loan amount requested:\"))\n",
        "    bonus = input(\"Enter the bonus credit eligibility (yes/no):\")\n",
        "    if bonus.lower() == \"yes\":\n",
        "       bonus = 1\n",
        "    else:\n",
        "       bonus = 0\n",
        "    fav = input(\"Enter whether the post was a user favorite post (yes/no):\")\n",
        "    if fav.lower() == \"yes\":\n",
        "      fav = 1\n",
        "    else:\n",
        "      fav = 0\n",
        "\n",
        "    inner_list = [length, pictures, loan, bonus, fav]\n",
        "    \n",
        "    z.append(inner_list)\n",
        "    #print(z)\n",
        "\n",
        "    clf = joblib.load(\"kiva_decision_tree.joblib\")\n",
        "    predictions = clf.predict(z)\n",
        "\n",
        "    #print(predictions)\n",
        "    if predictions == 1:\n",
        "      print (\"Based on the decision tree, the loan will be funded.\")\n",
        "    else :\n",
        "      print (\"Based on the decision tree, the loan will not be funded.\")\n",
        "      \n",
        "else:\n",
        "    print(\"Sorry, connection error.\")"
      ]
    }
  ]
}